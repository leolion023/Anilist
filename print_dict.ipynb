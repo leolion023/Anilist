{
 "cells": [
  {
   "cell_type": "code",
   "execution_count": 6,
   "metadata": {},
   "outputs": [],
   "source": [
    "import pandas as pd\n",
    "import requests\n",
    "import json\n",
    "import numpy as np\n",
    "from bs4 import BeautifulSoup\n",
    "from pandas import json_normalize\n"
   ]
  },
  {
   "cell_type": "code",
   "execution_count": 11,
   "metadata": {},
   "outputs": [],
   "source": [
    "g=[]\n",
    "def print_dict(v, prefix=''):\n",
    "    if isinstance(v,dict):\n",
    "        for k, v2 in v.items():\n",
    "            p2 = \"{}.{}\".format(prefix, k)\n",
    "            print_dict(v2, p2)\n",
    "    elif isinstance(v,list):\n",
    "        for i, v2 in enumerate(v):\n",
    "            p2 = \"{}.{}\".format(prefix, i)\n",
    "            print_dict(v2, p2)\n",
    "    else:\n",
    "        g.append(['{}'.format(prefix),v])\n",
    "    return g"
   ]
  },
  {
   "cell_type": "code",
   "execution_count": null,
   "metadata": {},
   "outputs": [],
   "source": []
  }
 ],
 "metadata": {
  "kernelspec": {
   "display_name": "Python 3",
   "language": "python",
   "name": "python3"
  },
  "language_info": {
   "codemirror_mode": {
    "name": "ipython",
    "version": 3
   },
   "file_extension": ".py",
   "mimetype": "text/x-python",
   "name": "python",
   "nbconvert_exporter": "python",
   "pygments_lexer": "ipython3",
   "version": "3.13.0"
  }
 },
 "nbformat": 4,
 "nbformat_minor": 2
}
