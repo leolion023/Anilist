{
 "cells": [
  {
   "cell_type": "code",
   "execution_count": 1,
   "metadata": {},
   "outputs": [],
   "source": [
    "import pandas as pd\n",
    "import requests\n",
    "import json\n",
    "import numpy as np\n",
    "import time"
   ]
  },
  {
   "cell_type": "code",
   "execution_count": null,
   "metadata": {},
   "outputs": [],
   "source": [
    "#Function to query anilist.co for a page from thier anime database, excluding explicit content and including only anime with the FINISHED status.\n",
    "#It also creates a useable data frame for the query.\n",
    "def anilist_query(i) -> pd.DataFrame:\n",
    "  query= '''\n",
    "  query Query($type: MediaType, $status: MediaStatus, $page: Int, $isAdult: Boolean) {\n",
    "    Page(page: $page) {\n",
    "      pageInfo {\n",
    "        currentPage\n",
    "        hasNextPage\n",
    "      }\n",
    "      media(type: $type, status: $status, isAdult: $isAdult) {\n",
    "        id\n",
    "        title {\n",
    "          english\n",
    "          romaji\n",
    "        }\n",
    "        type\n",
    "        format\n",
    "        status\n",
    "        seasonYear\n",
    "        source\n",
    "        genres\n",
    "        popularity\n",
    "        tags {\n",
    "          name\n",
    "        }\n",
    "      }\n",
    "    }\n",
    "  }\n",
    "  ''' \n",
    "  variables={\n",
    "    \"type\" : 'ANIME',\n",
    "    \"status\": 'FINISHED',\n",
    "    \"page\" : i,\n",
    "    \"isAdult\" : False\n",
    "  }\n",
    "  response = requests.post(url, json={'query': query,'variables': variables}) # Make the HTTP Api request\n",
    "  json = response.json()\n",
    "  df = pd.json_normalize(json['data']) #parse json for data column\n",
    "  return df"
   ]
  },
  {
   "cell_type": "code",
   "execution_count": null,
   "metadata": {},
   "outputs": [],
   "source": [
    "# Function to loop all pages and append to data frame\n",
    "def anilist_compile(i) -> pd.DataFrame:\n",
    "    result = pd.DataFrame() #Create empty data frame.\n",
    "    while True:\n",
    "        df = anilist_query(i)\n",
    "        if df['Page.pageInfo.hasNextPage'][0] == np.True_: #test for if there is another page to query\n",
    "            df_1 = pd.json_normalize(df['Page.media']).T #flaten db for Page.media and transform\n",
    "            df_2 = pd.json_normalize(df_1[0])  #flaten db for concatinate\n",
    "            result = pd.concat([result,df_2], axis=0) #concatinate for result\n",
    "            i += 1\n",
    "            time.sleep(3) #limit request rate to complie with anilist\n",
    "        else:\n",
    "            df_1 = pd.json_normalize(df['Page.media']).T #flaten db for Page.media and transform\n",
    "            df_2 = pd.json_normalize(df_1[0]) #flaten db for concatinate\n",
    "            result = pd.concat([result,df_2], axis=0) #concatinate for result\n",
    "            break\n",
    "    return result"
   ]
  },
  {
   "cell_type": "code",
   "execution_count": 5,
   "metadata": {},
   "outputs": [],
   "source": [
    "url = 'https://graphql.anilist.co'"
   ]
  },
  {
   "cell_type": "code",
   "execution_count": null,
   "metadata": {},
   "outputs": [
    {
     "name": "stderr",
     "output_type": "stream",
     "text": [
      "C:\\Users\\Leolion023\\AppData\\Local\\Temp\\ipykernel_18372\\71023842.py:9: FutureWarning: The behavior of DataFrame concatenation with empty or all-NA entries is deprecated. In a future version, this will no longer exclude empty or all-NA columns when determining the result dtypes. To retain the old behavior, exclude the relevant entries before the concat operation.\n",
      "  result = pd.concat([result,df_2], axis=0) #concatinate for result\n",
      "C:\\Users\\Leolion023\\AppData\\Local\\Temp\\ipykernel_18372\\71023842.py:9: FutureWarning: The behavior of DataFrame concatenation with empty or all-NA entries is deprecated. In a future version, this will no longer exclude empty or all-NA columns when determining the result dtypes. To retain the old behavior, exclude the relevant entries before the concat operation.\n",
      "  result = pd.concat([result,df_2], axis=0) #concatinate for result\n",
      "C:\\Users\\Leolion023\\AppData\\Local\\Temp\\ipykernel_18372\\71023842.py:9: FutureWarning: The behavior of DataFrame concatenation with empty or all-NA entries is deprecated. In a future version, this will no longer exclude empty or all-NA columns when determining the result dtypes. To retain the old behavior, exclude the relevant entries before the concat operation.\n",
      "  result = pd.concat([result,df_2], axis=0) #concatinate for result\n"
     ]
    }
   ],
   "source": [
    "anilist = anilist_compile(1) #compiling from page 1 will ensure all titles are included"
   ]
  },
  {
   "cell_type": "code",
   "execution_count": 12,
   "metadata": {},
   "outputs": [
    {
     "data": {
      "text/html": [
       "<div>\n",
       "<style scoped>\n",
       "    .dataframe tbody tr th:only-of-type {\n",
       "        vertical-align: middle;\n",
       "    }\n",
       "\n",
       "    .dataframe tbody tr th {\n",
       "        vertical-align: top;\n",
       "    }\n",
       "\n",
       "    .dataframe thead th {\n",
       "        text-align: right;\n",
       "    }\n",
       "</style>\n",
       "<table border=\"1\" class=\"dataframe\">\n",
       "  <thead>\n",
       "    <tr style=\"text-align: right;\">\n",
       "      <th></th>\n",
       "      <th>id</th>\n",
       "      <th>type</th>\n",
       "      <th>format</th>\n",
       "      <th>status</th>\n",
       "      <th>seasonYear</th>\n",
       "      <th>source</th>\n",
       "      <th>genres</th>\n",
       "      <th>popularity</th>\n",
       "      <th>tags</th>\n",
       "      <th>title.english</th>\n",
       "      <th>title.romaji</th>\n",
       "    </tr>\n",
       "  </thead>\n",
       "  <tbody>\n",
       "    <tr>\n",
       "      <th>0</th>\n",
       "      <td>1</td>\n",
       "      <td>ANIME</td>\n",
       "      <td>TV</td>\n",
       "      <td>FINISHED</td>\n",
       "      <td>1998.0</td>\n",
       "      <td>ORIGINAL</td>\n",
       "      <td>[Action, Adventure, Drama, Sci-Fi]</td>\n",
       "      <td>380694</td>\n",
       "      <td>[{'name': 'Space'}, {'name': 'Crime'}, {'name'...</td>\n",
       "      <td>Cowboy Bebop</td>\n",
       "      <td>Cowboy Bebop</td>\n",
       "    </tr>\n",
       "    <tr>\n",
       "      <th>1</th>\n",
       "      <td>5</td>\n",
       "      <td>ANIME</td>\n",
       "      <td>MOVIE</td>\n",
       "      <td>FINISHED</td>\n",
       "      <td>2001.0</td>\n",
       "      <td>ORIGINAL</td>\n",
       "      <td>[Action, Drama, Mystery, Sci-Fi]</td>\n",
       "      <td>70431</td>\n",
       "      <td>[{'name': 'Terrorism'}, {'name': 'Primarily Ad...</td>\n",
       "      <td>Cowboy Bebop: The Movie - Knockin' on Heaven's...</td>\n",
       "      <td>Cowboy Bebop: Tengoku no Tobira</td>\n",
       "    </tr>\n",
       "    <tr>\n",
       "      <th>2</th>\n",
       "      <td>6</td>\n",
       "      <td>ANIME</td>\n",
       "      <td>TV</td>\n",
       "      <td>FINISHED</td>\n",
       "      <td>1998.0</td>\n",
       "      <td>MANGA</td>\n",
       "      <td>[Action, Adventure, Comedy, Drama, Sci-Fi]</td>\n",
       "      <td>136780</td>\n",
       "      <td>[{'name': 'Guns'}, {'name': 'Fugitive'}, {'nam...</td>\n",
       "      <td>Trigun</td>\n",
       "      <td>TRIGUN</td>\n",
       "    </tr>\n",
       "    <tr>\n",
       "      <th>3</th>\n",
       "      <td>7</td>\n",
       "      <td>ANIME</td>\n",
       "      <td>TV</td>\n",
       "      <td>FINISHED</td>\n",
       "      <td>2002.0</td>\n",
       "      <td>ORIGINAL</td>\n",
       "      <td>[Action, Drama, Mystery, Supernatural]</td>\n",
       "      <td>18663</td>\n",
       "      <td>[{'name': 'Conspiracy'}, {'name': 'Police'}, {...</td>\n",
       "      <td>Witch Hunter ROBIN</td>\n",
       "      <td>Witch Hunter ROBIN</td>\n",
       "    </tr>\n",
       "    <tr>\n",
       "      <th>4</th>\n",
       "      <td>8</td>\n",
       "      <td>ANIME</td>\n",
       "      <td>TV</td>\n",
       "      <td>FINISHED</td>\n",
       "      <td>2004.0</td>\n",
       "      <td>MANGA</td>\n",
       "      <td>[Adventure, Fantasy, Supernatural]</td>\n",
       "      <td>2614</td>\n",
       "      <td>[{'name': 'Shounen'}, {'name': 'Spearplay'}, {...</td>\n",
       "      <td>Beet the Vandel Buster</td>\n",
       "      <td>Bouken Ou Beet</td>\n",
       "    </tr>\n",
       "    <tr>\n",
       "      <th>...</th>\n",
       "      <td>...</td>\n",
       "      <td>...</td>\n",
       "      <td>...</td>\n",
       "      <td>...</td>\n",
       "      <td>...</td>\n",
       "      <td>...</td>\n",
       "      <td>...</td>\n",
       "      <td>...</td>\n",
       "      <td>...</td>\n",
       "      <td>...</td>\n",
       "      <td>...</td>\n",
       "    </tr>\n",
       "    <tr>\n",
       "      <th>36</th>\n",
       "      <td>186761</td>\n",
       "      <td>ANIME</td>\n",
       "      <td>MOVIE</td>\n",
       "      <td>FINISHED</td>\n",
       "      <td>NaN</td>\n",
       "      <td>OTHER</td>\n",
       "      <td>[Comedy, Drama]</td>\n",
       "      <td>3</td>\n",
       "      <td>[]</td>\n",
       "      <td>None</td>\n",
       "      <td>Ban Ye Ji Jiao</td>\n",
       "    </tr>\n",
       "    <tr>\n",
       "      <th>37</th>\n",
       "      <td>186762</td>\n",
       "      <td>ANIME</td>\n",
       "      <td>MOVIE</td>\n",
       "      <td>FINISHED</td>\n",
       "      <td>NaN</td>\n",
       "      <td>OTHER</td>\n",
       "      <td>[Comedy]</td>\n",
       "      <td>4</td>\n",
       "      <td>[]</td>\n",
       "      <td>None</td>\n",
       "      <td>Cao Chong Cheng Xiang</td>\n",
       "    </tr>\n",
       "    <tr>\n",
       "      <th>38</th>\n",
       "      <td>186763</td>\n",
       "      <td>ANIME</td>\n",
       "      <td>MOVIE</td>\n",
       "      <td>FINISHED</td>\n",
       "      <td>NaN</td>\n",
       "      <td>OTHER</td>\n",
       "      <td>[Drama, Fantasy]</td>\n",
       "      <td>4</td>\n",
       "      <td>[{'name': 'Dragons'}]</td>\n",
       "      <td>None</td>\n",
       "      <td>Diao Long Ji</td>\n",
       "    </tr>\n",
       "    <tr>\n",
       "      <th>39</th>\n",
       "      <td>186764</td>\n",
       "      <td>ANIME</td>\n",
       "      <td>MOVIE</td>\n",
       "      <td>FINISHED</td>\n",
       "      <td>2024.0</td>\n",
       "      <td>None</td>\n",
       "      <td>[Fantasy]</td>\n",
       "      <td>138</td>\n",
       "      <td>[{'name': 'Virtual World'}, {'name': 'Female P...</td>\n",
       "      <td>None</td>\n",
       "      <td>SINoALICE: Ichiban Saigo no Monogatari</td>\n",
       "    </tr>\n",
       "    <tr>\n",
       "      <th>40</th>\n",
       "      <td>186790</td>\n",
       "      <td>ANIME</td>\n",
       "      <td>MOVIE</td>\n",
       "      <td>FINISHED</td>\n",
       "      <td>NaN</td>\n",
       "      <td>OTHER</td>\n",
       "      <td>[Fantasy]</td>\n",
       "      <td>5</td>\n",
       "      <td>[]</td>\n",
       "      <td>None</td>\n",
       "      <td>Chiisana Jam to Goblin no Opp</td>\n",
       "    </tr>\n",
       "  </tbody>\n",
       "</table>\n",
       "<p>18391 rows × 11 columns</p>\n",
       "</div>"
      ],
      "text/plain": [
       "        id   type format    status  seasonYear    source  \\\n",
       "0        1  ANIME     TV  FINISHED      1998.0  ORIGINAL   \n",
       "1        5  ANIME  MOVIE  FINISHED      2001.0  ORIGINAL   \n",
       "2        6  ANIME     TV  FINISHED      1998.0     MANGA   \n",
       "3        7  ANIME     TV  FINISHED      2002.0  ORIGINAL   \n",
       "4        8  ANIME     TV  FINISHED      2004.0     MANGA   \n",
       "..     ...    ...    ...       ...         ...       ...   \n",
       "36  186761  ANIME  MOVIE  FINISHED         NaN     OTHER   \n",
       "37  186762  ANIME  MOVIE  FINISHED         NaN     OTHER   \n",
       "38  186763  ANIME  MOVIE  FINISHED         NaN     OTHER   \n",
       "39  186764  ANIME  MOVIE  FINISHED      2024.0      None   \n",
       "40  186790  ANIME  MOVIE  FINISHED         NaN     OTHER   \n",
       "\n",
       "                                        genres  popularity  \\\n",
       "0           [Action, Adventure, Drama, Sci-Fi]      380694   \n",
       "1             [Action, Drama, Mystery, Sci-Fi]       70431   \n",
       "2   [Action, Adventure, Comedy, Drama, Sci-Fi]      136780   \n",
       "3       [Action, Drama, Mystery, Supernatural]       18663   \n",
       "4           [Adventure, Fantasy, Supernatural]        2614   \n",
       "..                                         ...         ...   \n",
       "36                             [Comedy, Drama]           3   \n",
       "37                                    [Comedy]           4   \n",
       "38                            [Drama, Fantasy]           4   \n",
       "39                                   [Fantasy]         138   \n",
       "40                                   [Fantasy]           5   \n",
       "\n",
       "                                                 tags  \\\n",
       "0   [{'name': 'Space'}, {'name': 'Crime'}, {'name'...   \n",
       "1   [{'name': 'Terrorism'}, {'name': 'Primarily Ad...   \n",
       "2   [{'name': 'Guns'}, {'name': 'Fugitive'}, {'nam...   \n",
       "3   [{'name': 'Conspiracy'}, {'name': 'Police'}, {...   \n",
       "4   [{'name': 'Shounen'}, {'name': 'Spearplay'}, {...   \n",
       "..                                                ...   \n",
       "36                                                 []   \n",
       "37                                                 []   \n",
       "38                              [{'name': 'Dragons'}]   \n",
       "39  [{'name': 'Virtual World'}, {'name': 'Female P...   \n",
       "40                                                 []   \n",
       "\n",
       "                                        title.english  \\\n",
       "0                                        Cowboy Bebop   \n",
       "1   Cowboy Bebop: The Movie - Knockin' on Heaven's...   \n",
       "2                                              Trigun   \n",
       "3                                  Witch Hunter ROBIN   \n",
       "4                              Beet the Vandel Buster   \n",
       "..                                                ...   \n",
       "36                                               None   \n",
       "37                                               None   \n",
       "38                                               None   \n",
       "39                                               None   \n",
       "40                                               None   \n",
       "\n",
       "                              title.romaji  \n",
       "0                             Cowboy Bebop  \n",
       "1          Cowboy Bebop: Tengoku no Tobira  \n",
       "2                                   TRIGUN  \n",
       "3                       Witch Hunter ROBIN  \n",
       "4                           Bouken Ou Beet  \n",
       "..                                     ...  \n",
       "36                          Ban Ye Ji Jiao  \n",
       "37                   Cao Chong Cheng Xiang  \n",
       "38                            Diao Long Ji  \n",
       "39  SINoALICE: Ichiban Saigo no Monogatari  \n",
       "40           Chiisana Jam to Goblin no Opp  \n",
       "\n",
       "[18391 rows x 11 columns]"
      ]
     },
     "execution_count": 12,
     "metadata": {},
     "output_type": "execute_result"
    }
   ],
   "source": [
    "anilist"
   ]
  },
  {
   "cell_type": "code",
   "execution_count": 13,
   "metadata": {},
   "outputs": [],
   "source": [
    "anilist.to_csv(\"complete_anilist.csv\",index=False)"
   ]
  },
  {
   "cell_type": "code",
   "execution_count": null,
   "metadata": {},
   "outputs": [],
   "source": [
    "# Function to query anilist.co for a defined user's anime media list with the completed status, and transform it into a useable data frame.\n",
    "def my_anilist(user_name) -> pd.DataFrame:\n",
    "    query = '''\n",
    "    query Query($userName: String, $type: MediaType, $status: MediaListStatus) {\n",
    "    MediaListCollection(userName: $userName, type: $type, status: $status) {\n",
    "        lists {\n",
    "        entries {\n",
    "            id\n",
    "            mediaId\n",
    "            media {\n",
    "            title {\n",
    "                english\n",
    "                romaji\n",
    "            }\n",
    "            format\n",
    "            }\n",
    "        }\n",
    "        name\n",
    "        }\n",
    "    }\n",
    "    }\n",
    "        '''\n",
    "    variables={\n",
    "        \"type\" : 'ANIME',\n",
    "        \"status\": 'COMPLETED',\n",
    "        \"userName\" : user_name,\n",
    "    }\n",
    "    response = requests.post(url, json={'query': query,'variables': variables}) # Make the HTTP Api request\n",
    "    json = response.json()\n",
    "    df = pd.json_normalize(json['data']) #parse json for data column\n",
    "    df = pd.json_normalize(df['MediaListCollection.lists']) \n",
    "    df =pd.json_normalize(df[0])\n",
    "    df = pd.json_normalize(df['entries']).T #transform data frame to be readable\n",
    "    df = pd.json_normalize(df[0])\n",
    "    df = df[(df['media.format'] != \"MOVIE\") & (df['media.format'] != \"SPECIAL\") & (df['media.format'] != \"MUSIC\") & (df['media.format'] != \"TV_SHORT\")] #remove unnecesary formats\n",
    "    df['media.title.english'] = df['media.title.english'].fillna(df['media.title.romaji'])  #clean english title\n",
    "    df = df.drop(['media.title.romaji','id','media.format'],axis=1) #drop romaji title, userid, and the format of the media\n",
    "    return df"
   ]
  },
  {
   "cell_type": "code",
   "execution_count": null,
   "metadata": {},
   "outputs": [
    {
     "data": {
      "application/vnd.microsoft.datawrangler.viewer.v0+json": {
       "columns": [
        {
         "name": "index",
         "rawType": "int64",
         "type": "integer"
        },
        {
         "name": "mediaId",
         "rawType": "int64",
         "type": "integer"
        },
        {
         "name": "media.title.english",
         "rawType": "object",
         "type": "string"
        }
       ],
       "conversionMethod": "pd.DataFrame",
       "ref": "047f4ea7-d29b-473f-bea1-516f96637dfe",
       "rows": [
        [
         "1",
         "21711",
         "91 Days"
        ],
        [
         "2",
         "9776",
         "A-Channel"
        ],
        [
         "3",
         "8101",
         "Hen Zemi"
        ],
        [
         "4",
         "20785",
         "Absolute Duo"
        ],
        [
         "5",
         "21823",
         "ACCA: 13-Territory Inspection Dept."
        ],
        [
         "6",
         "11759",
         "Accel World"
        ],
        [
         "7",
         "21417",
         "Active Raid"
        ],
        [
         "8",
         "21534",
         "Active Raid Second"
        ],
        [
         "9",
         "21033",
         "Actually, I Am"
        ],
        [
         "10",
         "13161",
         "Aesthetica of a Rogue Hero"
        ],
        [
         "12",
         "696",
         "Tenchi Muyo! Tenchi Universe"
        ],
        [
         "13",
         "53",
         "Ai Yori Aoshi"
        ],
        [
         "14",
         "394",
         "Ai Yori Aoshi: Enishi"
        ],
        [
         "15",
         "101",
         "Air"
        ],
        [
         "17",
         "20613",
         "Akame ga Kill!"
        ],
        [
         "18",
         "4744",
         "The Hill Dyed Rose Madder"
        ],
        [
         "19",
         "21410",
         "Alderamin on the Sky"
        ],
        [
         "20",
         "8676",
         "Amagami SS"
        ],
        [
         "21",
         "11235",
         "Amagami SS+ plus"
        ],
        [
         "22",
         "9117",
         "Amagami SS OVA"
        ],
        [
         "23",
         "9925",
         "Amagami SS: Sister"
        ],
        [
         "24",
         "97730",
         "Seiren"
        ],
        [
         "25",
         "21406",
         "Amanchu!"
        ],
        [
         "26",
         "11933",
         "The Ambition of Oda Nobuna"
        ],
        [
         "27",
         "21290",
         "And you thought there is never a girl online?"
        ],
        [
         "28",
         "21439",
         "Ange Vierge"
        ],
        [
         "29",
         "21238",
         "Anne-Happy"
        ],
        [
         "30",
         "11111",
         "Another"
        ],
        [
         "32",
         "20704",
         "Anti-Magic Academy: The 35th Test Platoon"
        ],
        [
         "33",
         "21319",
         "AOKANA: Four Rhythm Across the Blue"
        ],
        [
         "34",
         "7647",
         "Arakawa Under the Bridge"
        ],
        [
         "35",
         "9074",
         "Arakawa Under the Bridge x Bridge"
        ],
        [
         "36",
         "8630",
         "Aria the Scarlet Ammo"
        ],
        [
         "37",
         "20991",
         "Aria the Scarlet Ammo AA"
        ],
        [
         "39",
         "18893",
         "Arpeggio of Blue Steel"
        ],
        [
         "40",
         "9736",
         "Astarotte's Toy"
        ],
        [
         "41",
         "21131",
         "The Asterisk War"
        ],
        [
         "42",
         "21390",
         "The Asterisk War 2"
        ],
        [
         "43",
         "5342",
         "Asura Cryin'"
        ],
        [
         "44",
         "6676",
         "Asura Cryin' 2"
        ],
        [
         "45",
         "20506",
         "Atelier Escha & Logy ~Alchemists of the Dusk Sky~"
        ],
        [
         "46",
         "16498",
         "Attack on Titan"
        ],
        [
         "47",
         "20958",
         "Attack on Titan Season 2"
        ],
        [
         "48",
         "99147",
         "Attack on Titan Season 3"
        ],
        [
         "49",
         "104578",
         "Attack on Titan Season 3 Part 2"
        ],
        [
         "50",
         "66",
         "Azumanga Daioh"
        ],
        [
         "51",
         "7817",
         "Yamada's First Time: B Gata H Kei"
        ],
        [
         "52",
         "2251",
         "Baccano!"
        ],
        [
         "53",
         "6347",
         "Baka and Test - Summon the Beasts"
        ],
        [
         "54",
         "9471",
         "Baka and Test - Summon the Beasts: Matsuri"
        ]
       ],
       "shape": {
        "columns": 2,
        "rows": 1285
       }
      },
      "text/html": [
       "<div>\n",
       "<style scoped>\n",
       "    .dataframe tbody tr th:only-of-type {\n",
       "        vertical-align: middle;\n",
       "    }\n",
       "\n",
       "    .dataframe tbody tr th {\n",
       "        vertical-align: top;\n",
       "    }\n",
       "\n",
       "    .dataframe thead th {\n",
       "        text-align: right;\n",
       "    }\n",
       "</style>\n",
       "<table border=\"1\" class=\"dataframe\">\n",
       "  <thead>\n",
       "    <tr style=\"text-align: right;\">\n",
       "      <th></th>\n",
       "      <th>mediaId</th>\n",
       "      <th>media.title.english</th>\n",
       "    </tr>\n",
       "  </thead>\n",
       "  <tbody>\n",
       "    <tr>\n",
       "      <th>1</th>\n",
       "      <td>21711</td>\n",
       "      <td>91 Days</td>\n",
       "    </tr>\n",
       "    <tr>\n",
       "      <th>2</th>\n",
       "      <td>9776</td>\n",
       "      <td>A-Channel</td>\n",
       "    </tr>\n",
       "    <tr>\n",
       "      <th>3</th>\n",
       "      <td>8101</td>\n",
       "      <td>Hen Zemi</td>\n",
       "    </tr>\n",
       "    <tr>\n",
       "      <th>4</th>\n",
       "      <td>20785</td>\n",
       "      <td>Absolute Duo</td>\n",
       "    </tr>\n",
       "    <tr>\n",
       "      <th>5</th>\n",
       "      <td>21823</td>\n",
       "      <td>ACCA: 13-Territory Inspection Dept.</td>\n",
       "    </tr>\n",
       "    <tr>\n",
       "      <th>...</th>\n",
       "      <td>...</td>\n",
       "      <td>...</td>\n",
       "    </tr>\n",
       "    <tr>\n",
       "      <th>1398</th>\n",
       "      <td>112153</td>\n",
       "      <td>Pokémon Journeys: The Series</td>\n",
       "    </tr>\n",
       "    <tr>\n",
       "      <th>1399</th>\n",
       "      <td>103301</td>\n",
       "      <td>ENDRO!</td>\n",
       "    </tr>\n",
       "    <tr>\n",
       "      <th>1400</th>\n",
       "      <td>103638</td>\n",
       "      <td>Case File nº221: Kabukicho</td>\n",
       "    </tr>\n",
       "    <tr>\n",
       "      <th>1401</th>\n",
       "      <td>103222</td>\n",
       "      <td>Magical Girl Spec-Ops Asuka</td>\n",
       "    </tr>\n",
       "    <tr>\n",
       "      <th>1402</th>\n",
       "      <td>104679</td>\n",
       "      <td>Chidori RSC</td>\n",
       "    </tr>\n",
       "  </tbody>\n",
       "</table>\n",
       "<p>1285 rows × 2 columns</p>\n",
       "</div>"
      ],
      "text/plain": [
       "      mediaId                  media.title.english\n",
       "1       21711                              91 Days\n",
       "2        9776                            A-Channel\n",
       "3        8101                             Hen Zemi\n",
       "4       20785                         Absolute Duo\n",
       "5       21823  ACCA: 13-Territory Inspection Dept.\n",
       "...       ...                                  ...\n",
       "1398   112153         Pokémon Journeys: The Series\n",
       "1399   103301                               ENDRO!\n",
       "1400   103638           Case File nº221: Kabukicho\n",
       "1401   103222          Magical Girl Spec-Ops Asuka\n",
       "1402   104679                          Chidori RSC\n",
       "\n",
       "[1285 rows x 2 columns]"
      ]
     },
     "execution_count": 12,
     "metadata": {},
     "output_type": "execute_result"
    }
   ],
   "source": [
    "my_list = my_anilist(\"leolion023\") #change username to import your personal list\n",
    "my_list"
   ]
  },
  {
   "cell_type": "code",
   "execution_count": 13,
   "metadata": {},
   "outputs": [],
   "source": [
    "my_list.to_csv('my_anilist.csv', index=False)"
   ]
  }
 ],
 "metadata": {
  "kernelspec": {
   "display_name": "Python 3",
   "language": "python",
   "name": "python3"
  },
  "language_info": {
   "codemirror_mode": {
    "name": "ipython",
    "version": 3
   },
   "file_extension": ".py",
   "mimetype": "text/x-python",
   "name": "python",
   "nbconvert_exporter": "python",
   "pygments_lexer": "ipython3",
   "version": "3.13.0"
  }
 },
 "nbformat": 4,
 "nbformat_minor": 2
}
